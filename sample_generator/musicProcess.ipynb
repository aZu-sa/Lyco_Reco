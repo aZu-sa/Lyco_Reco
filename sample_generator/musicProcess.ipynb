{
 "cells": [
  {
   "cell_type": "code",
   "execution_count": 1,
   "metadata": {
    "collapsed": true
   },
   "outputs": [],
   "source": [
    "import os\n",
    "\n",
    "import librosa\n",
    "import numpy as np\n"
   ]
  },
  {
   "cell_type": "code",
   "execution_count": 2,
   "outputs": [],
   "source": [
    "def get_chroma_stft(y, sr):\n",
    "    chroma_stft = librosa.feature.chroma_stft(y=y, sr=sr)\n",
    "    chroma_stft_mean = np.mean(chroma_stft)\n",
    "    chroma_stft_var = np.var(chroma_stft)\n",
    "    return chroma_stft_mean, chroma_stft_var\n",
    "\n",
    "\n",
    "def get_rms(y):\n",
    "    rms = librosa.feature.rms(y=y)\n",
    "    rms_mean = np.mean(rms)\n",
    "    rms_var = np.var(rms)\n",
    "    return rms_mean, rms_var\n",
    "\n",
    "\n",
    "def get_spectral_centroid(y, sr):\n",
    "    spectral_centroid = librosa.feature.spectral_centroid(y=y, sr=sr)\n",
    "    spectral_centroid_mean = np.mean(spectral_centroid)\n",
    "    spectral_centroid_var = np.var(spectral_centroid)\n",
    "    return spectral_centroid_mean, spectral_centroid_var\n",
    "\n",
    "\n",
    "def get_spectral_bandwidth(y, sr):\n",
    "    spectral_bandwidth = librosa.feature.spectral_bandwidth(y=y, sr=sr)\n",
    "    spectral_bandwidth_mean = np.mean(spectral_bandwidth)\n",
    "    spectral_bandwidth_var = np.var(spectral_bandwidth)\n",
    "    return spectral_bandwidth_mean, spectral_bandwidth_var\n",
    "\n",
    "\n",
    "def get_rolloff(y, sr):\n",
    "    rolloff = librosa.feature.spectral_rolloff(y=y, sr=sr)\n",
    "    rf_mean = np.mean(rolloff)\n",
    "    rf_var = np.var(rolloff)\n",
    "    return rf_mean, rf_var\n",
    "\n",
    "\n",
    "def get_zero_crossing_rate(y):\n",
    "    zcr = librosa.feature.zero_crossing_rate(y)\n",
    "    return np.mean(zcr), np.var(zcr)\n",
    "\n",
    "\n",
    "def get_harmony_and_perceptual(y):\n",
    "    y_harm, y_perc = librosa.effects.hpss(y)\n",
    "    return np.mean(y_harm), np.var(y_harm), np.mean(y_perc), np.var(y_perc)\n",
    "\n",
    "\n",
    "def get_tempo(y, sr):\n",
    "    tempo, _ = librosa.beat.beat_track(y=y, sr=sr)\n",
    "    return tempo\n",
    "\n",
    "\n",
    "def get_mfcc(y, sr):\n",
    "    mfccs = librosa.feature.mfcc(y=y, sr=sr, n_mfcc=20)\n",
    "    mfcc_means = list(map(np.mean, mfccs))\n",
    "    mfcc_vars = list(map(np.var, mfccs))\n",
    "    return mfcc_means, mfcc_vars\n"
   ],
   "metadata": {
    "collapsed": false
   }
  },
  {
   "cell_type": "code",
   "execution_count": 5,
   "outputs": [
    {
     "name": "stdout",
     "output_type": "stream",
     "text": [
      "([-179.10237, 67.31532, 24.43042, 25.300352, 7.930529, 12.166368, 5.7244244, 7.8207207, 3.811854, 8.40122, -0.074752845, 6.248459, 0.5148195, 1.3991385, -1.4270134, 0.66210747, -2.3945432, 3.2063277, 0.79292667, 3.2554183], [7365.68, 655.66284, 452.33438, 229.57414, 143.94186, 131.85965, 78.1151, 68.787125, 90.55072, 69.79385, 62.77555, 67.177925, 46.247295, 53.219196, 54.427555, 69.26596, 74.788025, 70.095146, 76.1646, 67.58579])\n"
     ]
    }
   ],
   "source": [
    "y, sr = librosa.load(r\"./resources/1.wav\")\n",
    "print(get_mfcc(y, sr))"
   ],
   "metadata": {
    "collapsed": false
   }
  },
  {
   "cell_type": "code",
   "execution_count": 3,
   "outputs": [],
   "source": [
    "def get_eigenvector(path):\n",
    "    \"\"\"\n",
    "        获取音频文件的特征向量\n",
    "        path: 音频文件路径\n",
    "        @return: 返回音频文件对应的特征向量\n",
    "    \"\"\"\n",
    "    y, sr = librosa.load(path)\n",
    "    y, _ = librosa.effects.trim(y)\n",
    "    eigenvector = [*y.shape, *get_chroma_stft(y, sr), *get_rms(y), *get_spectral_centroid(y, sr),\n",
    "                   *get_spectral_bandwidth(y, sr),\n",
    "                   *get_rolloff(y, sr), *get_zero_crossing_rate(y), *get_harmony_and_perceptual(y), get_tempo(y, sr)]\n",
    "    mfcc = get_mfcc(y, sr)\n",
    "    for i in range(20):\n",
    "        eigenvector.append(mfcc[0][i])\n",
    "        eigenvector.append(mfcc[1][i])\n",
    "    return eigenvector"
   ],
   "metadata": {
    "collapsed": false
   }
  },
  {
   "cell_type": "code",
   "execution_count": 4,
   "outputs": [
    {
     "name": "stdout",
     "output_type": "stream",
     "text": [
      "6225509\n",
      "0.3785841\n",
      "0.09234533\n",
      "0.0752176\n",
      "0.0007694788\n",
      "2793.2194789359064\n",
      "757913.8247103085\n",
      "2943.622874690518\n",
      "150635.3963277575\n",
      "6359.840397081877\n",
      "2937035.399465197\n",
      "0.0987455267655222\n",
      "0.003776289346881683\n",
      "-1.6962967e-05\n",
      "0.0038723024\n",
      "4.378385e-05\n",
      "0.0010846063\n",
      "129.19921875\n",
      "-179.10237\n",
      "7365.68\n",
      "67.31532\n",
      "655.66284\n",
      "24.43042\n",
      "452.33438\n",
      "25.300352\n",
      "229.57414\n",
      "7.930529\n",
      "143.94186\n",
      "12.166368\n",
      "131.85965\n",
      "5.7244244\n",
      "78.1151\n",
      "7.8207207\n",
      "68.787125\n",
      "3.811854\n",
      "90.55072\n",
      "8.40122\n",
      "69.79385\n",
      "-0.074752845\n",
      "62.77555\n",
      "6.248459\n",
      "67.177925\n",
      "0.5148195\n",
      "46.247295\n",
      "1.3991385\n",
      "53.219196\n",
      "-1.4270134\n",
      "54.427555\n",
      "0.66210747\n",
      "69.26596\n",
      "-2.3945432\n",
      "74.788025\n",
      "3.2063277\n",
      "70.095146\n",
      "0.79292667\n",
      "76.1646\n",
      "3.2554183\n",
      "67.58579\n"
     ]
    }
   ],
   "source": [
    "path = r\"./resources/1.wav\"\n",
    "eigenvector = get_eigenvector(path)\n",
    "for e in eigenvector:\n",
    "    print(e)"
   ],
   "metadata": {
    "collapsed": false
   }
  },
  {
   "cell_type": "code",
   "execution_count": null,
   "outputs": [],
   "source": [],
   "metadata": {
    "collapsed": false
   }
  }
 ],
 "metadata": {
  "kernelspec": {
   "display_name": "Python 3",
   "language": "python",
   "name": "python3"
  },
  "language_info": {
   "codemirror_mode": {
    "name": "ipython",
    "version": 2
   },
   "file_extension": ".py",
   "mimetype": "text/x-python",
   "name": "python",
   "nbconvert_exporter": "python",
   "pygments_lexer": "ipython2",
   "version": "2.7.6"
  }
 },
 "nbformat": 4,
 "nbformat_minor": 0
}
