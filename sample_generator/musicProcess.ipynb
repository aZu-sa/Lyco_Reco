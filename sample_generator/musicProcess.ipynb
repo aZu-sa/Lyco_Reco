{
 "cells": [
  {
   "cell_type": "code",
   "execution_count": 3,
   "metadata": {
    "collapsed": true
   },
   "outputs": [],
   "source": [
    "import os\n",
    "\n",
    "import librosa\n",
    "import numpy as np\n"
   ]
  },
  {
   "cell_type": "code",
   "execution_count": 4,
   "outputs": [],
   "source": [
    "def get_chroma_stft(y, sr):\n",
    "    chroma_stft = librosa.feature.chroma_stft(y=y, sr=sr)\n",
    "    chroma_stft_mean = np.mean(chroma_stft)\n",
    "    chroma_stft_var = np.var(chroma_stft)\n",
    "    return chroma_stft_mean, chroma_stft_var\n",
    "\n",
    "\n",
    "def get_rms(y):\n",
    "    rms = librosa.feature.rms(y=y)\n",
    "    rms_mean = np.mean(rms)\n",
    "    rms_var = np.var(rms)\n",
    "    return rms_mean, rms_var\n",
    "\n",
    "\n",
    "def get_spectral_centroid(y, sr):\n",
    "    spectral_centroid = librosa.feature.spectral_centroid(y=y, sr=sr)\n",
    "    spectral_centroid_mean = np.mean(spectral_centroid)\n",
    "    spectral_centroid_var = np.var(spectral_centroid)\n",
    "    return spectral_centroid_mean, spectral_centroid_var\n",
    "\n",
    "\n",
    "def get_spectral_bandwidth(y, sr):\n",
    "    spectral_bandwidth = librosa.feature.spectral_bandwidth(y=y, sr=sr)\n",
    "    spectral_bandwidth_mean = np.mean(spectral_bandwidth)\n",
    "    spectral_bandwidth_var = np.var(spectral_bandwidth)\n",
    "    return spectral_bandwidth_mean, spectral_bandwidth_var\n",
    "\n",
    "\n",
    "def get_rolloff(y, sr):\n",
    "    rolloff = librosa.feature.spectral_rolloff(y=y, sr=sr)\n",
    "    rf_mean = np.mean(rolloff)\n",
    "    rf_var = np.var(rolloff)\n",
    "    return rf_mean, rf_var\n",
    "\n",
    "\n",
    "def get_zero_crossing_rate(y):\n",
    "    zcr = librosa.feature.zero_crossing_rate(y)\n",
    "    return np.mean(zcr), np.var(zcr)\n",
    "\n",
    "\n",
    "def get_harmony_and_perceptual(y):\n",
    "    y_harm, y_perc = librosa.effects.hpss(y)\n",
    "    return np.mean(y_harm), np.var(y_harm), np.mean(y_perc), np.var(y_perc)\n",
    "\n",
    "\n",
    "def get_tempo(y, sr):\n",
    "    tempo, _ = librosa.beat.beat_track(y=y, sr=sr)\n",
    "    return tempo\n",
    "\n",
    "\n",
    "def get_mfcc(y, sr):\n",
    "    mfccs = librosa.feature.mfcc(y=y, sr=sr, n_mfcc=20)\n",
    "    mfcc_means = list(map(np.mean, mfccs))\n",
    "    mfcc_vars = list(map(np.var, mfccs))\n",
    "    return mfcc_means, mfcc_vars\n"
   ],
   "metadata": {
    "collapsed": false
   }
  },
  {
   "cell_type": "code",
   "execution_count": 5,
   "outputs": [
    {
     "name": "stdout",
     "output_type": "stream",
     "text": [
      "([-179.10237, 67.31532, 24.43042, 25.300352, 7.930529, 12.166368, 5.7244244, 7.8207207, 3.811854, 8.40122, -0.074752845, 6.248459, 0.5148195, 1.3991385, -1.4270134, 0.66210747, -2.3945432, 3.2063277, 0.79292667, 3.2554183], [7365.68, 655.66284, 452.33438, 229.57414, 143.94186, 131.85965, 78.1151, 68.787125, 90.55072, 69.79385, 62.77555, 67.177925, 46.247295, 53.219196, 54.427555, 69.26596, 74.788025, 70.095146, 76.1646, 67.58579])\n"
     ]
    }
   ],
   "source": [
    "y, sr = librosa.load(r\"./resources/1.wav\")\n",
    "print(get_mfcc(y, sr))"
   ],
   "metadata": {
    "collapsed": false
   }
  },
  {
   "cell_type": "markdown",
   "source": [
    "\"\"\"\n",
    "    获取音频文件的特征向量\n",
    "    path: 音频文件路径\n",
    "    @return: 返回音频文件对应的特征向量\n",
    "\"\"\"\n",
    "\n",
    "def get_eigenvector(path):\n",
    "    y, sr = librosa.load(path)\n",
    "    eigenvector = []\n",
    "    eigenvector.a\n",
    "\n"
   ],
   "metadata": {
    "collapsed": false
   }
  }
 ],
 "metadata": {
  "kernelspec": {
   "display_name": "Python 3",
   "language": "python",
   "name": "python3"
  },
  "language_info": {
   "codemirror_mode": {
    "name": "ipython",
    "version": 2
   },
   "file_extension": ".py",
   "mimetype": "text/x-python",
   "name": "python",
   "nbconvert_exporter": "python",
   "pygments_lexer": "ipython2",
   "version": "2.7.6"
  }
 },
 "nbformat": 4,
 "nbformat_minor": 0
}
